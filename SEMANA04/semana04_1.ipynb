{
 "cells": [
  {
   "metadata": {
    "ExecuteTime": {
     "end_time": "2025-06-20T13:11:52.505020Z",
     "start_time": "2025-06-20T13:11:52.498876Z"
    }
   },
   "cell_type": "code",
   "source": [
    "''''\n",
    "    1. Sistema de Transporte (Buses, Trenes, Aviones)\n",
    "    Crear un sistema que permita registrar diferentes tipos de transporte (bus, tren, avión),\n",
    "    una ruta y simular el inicio y fin del viaje. Cada tipo tiene atributos específicos\n",
    "    como número de vagones (tren) o altitud (avión).\n",
    "'''\n",
    "\n",
    "from abc import ABC, abstractmethod\n",
    "\n",
    "# Clase abstracta Transporte (abstracción)\n",
    "class Transporte(ABC):\n",
    "    def __init__(self, velocidad, capacidad):\n",
    "        self._velocidad = velocidad      # encapsulamiento\n",
    "        self._capacidad = capacidad\n",
    "\n",
    "    @abstractmethod\n",
    "    def iniciar_ruta(self):\n",
    "        pass\n",
    "\n",
    "    def detener(self):\n",
    "        print(f\"{self.__class__.__name__} se ha detenido.\")\n",
    "\n",
    "# Subclase Bus\n",
    "class Bus(Transporte):\n",
    "    def __init__(self, velocidad, capacidad, ruta):\n",
    "        super().__init__(velocidad, capacidad)\n",
    "        self.ruta = ruta\n",
    "\n",
    "    def iniciar_ruta(self):\n",
    "        print(f\"Bus en ruta {self.ruta} iniciando viaje a {self._velocidad} km/h con capacidad para {self._capacidad} personas.\")\n",
    "\n",
    "# Subclase Tren\n",
    "class Tren(Transporte):\n",
    "    def __init__(self, velocidad, capacidad, vagones):\n",
    "        super().__init__(velocidad, capacidad)\n",
    "        self.vagones = vagones\n",
    "\n",
    "    def iniciar_ruta(self):\n",
    "        print(f\"Tren con {self.vagones} vagones iniciando a {self._velocidad} km/h con capacidad total de {self._capacidad} personas.\")\n",
    "\n",
    "# Subclase Avión\n",
    "class Avion(Transporte):\n",
    "    def __init__(self, velocidad, capacidad, altitud):\n",
    "        super().__init__(velocidad, capacidad)\n",
    "        self.altitud = altitud\n",
    "\n",
    "    def iniciar_ruta(self):\n",
    "        print(f\"Avión despegando a {self._velocidad} km/h con altitud de crucero {self.altitud} pies y capacidad para {self._capacidad} pasajeros.\")\n",
    "\n",
    "# Función de simulación\n",
    "def simular_viaje(transporte):\n",
    "    transporte.iniciar_ruta()\n",
    "    transporte.detener()\n",
    "\n",
    "# Ejemplo de uso\n",
    "bus = Bus(80, 50, \"Quito - Puyo\")\n",
    "tren = Tren(120, 300, 10)\n",
    "avion = Avion(900, 180, 35000)\n",
    "\n",
    "simular_viaje(bus)\n",
    "simular_viaje(tren)\n",
    "simular_viaje(avion)\n"
   ],
   "id": "51fe0802efae2aa9",
   "outputs": [
    {
     "name": "stdout",
     "output_type": "stream",
     "text": [
      "Bus en ruta Quito - Puyo iniciando viaje a 80 km/h con capacidad para 50 personas.\n",
      "Bus se ha detenido.\n",
      "Tren con 10 vagones iniciando a 120 km/h con capacidad total de 300 personas.\n",
      "Tren se ha detenido.\n",
      "Avión despegando a 900 km/h con altitud de crucero 35000 pies y capacidad para 180 pasajeros.\n",
      "Avion se ha detenido.\n"
     ]
    }
   ],
   "execution_count": 1
  }
 ],
 "metadata": {
  "kernelspec": {
   "display_name": "Python 3",
   "language": "python",
   "name": "python3"
  },
  "language_info": {
   "codemirror_mode": {
    "name": "ipython",
    "version": 2
   },
   "file_extension": ".py",
   "mimetype": "text/x-python",
   "name": "python",
   "nbconvert_exporter": "python",
   "pygments_lexer": "ipython2",
   "version": "2.7.6"
  }
 },
 "nbformat": 4,
 "nbformat_minor": 5
}
