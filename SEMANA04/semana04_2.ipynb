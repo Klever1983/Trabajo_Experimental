{
 "cells": [
  {
   "cell_type": "code",
   "id": "initial_id",
   "metadata": {
    "collapsed": true,
    "ExecuteTime": {
     "end_time": "2025-06-20T13:06:44.232500Z",
     "start_time": "2025-06-20T13:06:44.228117Z"
    }
   },
   "source": [
    "''''\n",
    "    2. Gestión de Empleados\n",
    "    Desarrollar una aplicación para calcular el sueldo mensual de empleados de una empresa.\n",
    "    Cada tipo de empleado tiene un método diferente para calcular su sueldo:\n",
    "    los gerentes reciben bonos, los operarios cobran horas extra y\n",
    "    los administrativos tienen un salario fijo.\n",
    "'''\n",
    "\n",
    "from abc import ABC, abstractmethod\n",
    "\n",
    "# Clase base abstracta\n",
    "class Empleado(ABC):\n",
    "    def __init__(self, nombre, salario_base):\n",
    "        self._nombre = nombre\n",
    "        self._salario_base = salario_base\n",
    "\n",
    "    @abstractmethod\n",
    "    def calcular_sueldo(self):\n",
    "        pass\n",
    "\n",
    "    def __str__(self):\n",
    "        return f\"{self.__class__.__name__} - {self._nombre}\"\n",
    "\n",
    "# Clase Gerente\n",
    "class Gerente(Empleado):\n",
    "    def __init__(self, nombre, salario_base, bono):\n",
    "        super().__init__(nombre, salario_base)\n",
    "        self._bono = bono\n",
    "\n",
    "    def calcular_sueldo(self):\n",
    "        return self._salario_base + self._bono\n",
    "\n",
    "# Clase Operario\n",
    "class Operario(Empleado):\n",
    "    def __init__(self, nombre, salario_base, horas_extra, pago_por_hora):\n",
    "        super().__init__(nombre, salario_base)\n",
    "        self._horas_extra = horas_extra\n",
    "        self._pago_por_hora = pago_por_hora\n",
    "\n",
    "    def calcular_sueldo(self):\n",
    "        return self._salario_base + (self._horas_extra * self._pago_por_hora)\n",
    "\n",
    "# Clase Administrativo\n",
    "class Administrativo(Empleado):\n",
    "    def calcular_sueldo(self):\n",
    "        return self._salario_base  # Salario fijo\n",
    "\n",
    "# Prueba\n",
    "if __name__ == \"__main__\":\n",
    "    empleados = [\n",
    "        Gerente(\"Ana\", 2500, 800),\n",
    "        Operario(\"Luis\", 1200, 10, 15),\n",
    "        Administrativo(\"Carlos\", 1500)\n",
    "    ]\n",
    "\n",
    "    for empleado in empleados:\n",
    "        print(f\"{empleado}: Sueldo mensual = ${empleado.calcular_sueldo():.2f}\")\n"
   ],
   "outputs": [
    {
     "name": "stdout",
     "output_type": "stream",
     "text": [
      "Gerente - Ana: Sueldo mensual = $3300.00\n",
      "Operario - Luis: Sueldo mensual = $1350.00\n",
      "Administrativo - Carlos: Sueldo mensual = $1500.00\n"
     ]
    }
   ],
   "execution_count": 2
  },
  {
   "metadata": {},
   "cell_type": "code",
   "outputs": [],
   "execution_count": null,
   "source": "",
   "id": "5645654b9df7f766"
  }
 ],
 "metadata": {
  "kernelspec": {
   "display_name": "Python 3",
   "language": "python",
   "name": "python3"
  },
  "language_info": {
   "codemirror_mode": {
    "name": "ipython",
    "version": 2
   },
   "file_extension": ".py",
   "mimetype": "text/x-python",
   "name": "python",
   "nbconvert_exporter": "python",
   "pygments_lexer": "ipython2",
   "version": "2.7.6"
  }
 },
 "nbformat": 4,
 "nbformat_minor": 5
}
