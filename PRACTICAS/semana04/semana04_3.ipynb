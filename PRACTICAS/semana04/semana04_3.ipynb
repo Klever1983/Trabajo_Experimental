{
 "cells": [
  {
   "cell_type": "code",
   "id": "initial_id",
   "metadata": {
    "collapsed": true,
    "ExecuteTime": {
     "end_time": "2025-06-21T18:07:42.277838Z",
     "start_time": "2025-06-21T18:07:42.271043Z"
    }
   },
   "source": [
    "'''\n",
    "    3. Sistema de Pago Electrónico\n",
    "    Implementar una plataforma de pagos donde el usuario pueda seleccionar entre\n",
    "    tarjeta de crédito, PayPal o transferencia bancaria.\n",
    "    Cada método debe validar la información de pago antes de procesarlo.\n",
    "'''\n",
    "\n",
    "\n",
    "from abc import ABC, abstractmethod\n",
    "import re\n",
    "\n",
    "# Clase abstracta\n",
    "class MetodoPago(ABC):\n",
    "    def __init__(self, monto):\n",
    "        self._monto = monto\n",
    "\n",
    "    @abstractmethod\n",
    "    def validar(self):\n",
    "        pass\n",
    "\n",
    "    @abstractmethod\n",
    "    def pagar(self):\n",
    "        pass\n",
    "\n",
    "\n",
    "# Tarjeta de Crédito\n",
    "class TarjetaCredito(MetodoPago):\n",
    "    def __init__(self, monto, numero_tarjeta, cvv):\n",
    "        super().__init__(monto)\n",
    "        self._numero_tarjeta = numero_tarjeta\n",
    "        self._cvv = cvv\n",
    "\n",
    "    def validar(self):\n",
    "        return re.fullmatch(r\"\\d{16}\", self._numero_tarjeta) and re.fullmatch(r\"\\d{3}\", self._cvv)\n",
    "\n",
    "    def pagar(self):\n",
    "        if self.validar():\n",
    "            print(f\"Pago de ${self._monto} procesado con tarjeta {self._numero_tarjeta[-4:]}\")\n",
    "        else:\n",
    "            print(\"Datos de tarjeta inválidos.\")\n",
    "\n",
    "\n",
    "# PayPal\n",
    "class PayPal(MetodoPago):\n",
    "    def __init__(self, monto, email):\n",
    "        super().__init__(monto)\n",
    "        self._email = email\n",
    "\n",
    "    def validar(self):\n",
    "        return re.fullmatch(r\"[^@]+@[^@]+\\.[^@]+\", self._email)\n",
    "\n",
    "    def pagar(self):\n",
    "        if self.validar():\n",
    "            print(f\"Pago de ${self._monto} procesado con cuenta PayPal: {self._email}\")\n",
    "        else:\n",
    "            print(\"Correo de PayPal inválido.\")\n",
    "\n",
    "\n",
    "# Transferencia Bancaria\n",
    "class TransferenciaBancaria(MetodoPago):\n",
    "    def __init__(self, monto, cuenta_bancaria, banco, tipo):\n",
    "        super().__init__(monto)\n",
    "        self._cuenta_bancaria = cuenta_bancaria\n",
    "        self._banco = banco\n",
    "        self._tipo = tipo\n",
    "\n",
    "    def validar(self):\n",
    "        return re.fullmatch(r\"\\d{10,15}\", self._cuenta_bancaria)\n",
    "\n",
    "    def pagar(self):\n",
    "        if self.validar():\n",
    "            print(f\"Pago de ${self._monto} procesado desde cuenta {self._cuenta_bancaria}\")\n",
    "        else:\n",
    "            print(\"Número de cuenta inválido.\")\n",
    "\n",
    "\n",
    "# Prueba\n",
    "if __name__ == \"__main__\":\n",
    "    pagos = [\n",
    "        TarjetaCredito(150.0, \"1234567812345678\", \"123\"),\n",
    "        PayPal(200.0, \"usuario@ejemplo.com\"),\n",
    "        TransferenciaBancaria(300.0, \"123456789012\", \"BGR\", \"Ahorros\")\n",
    "    ]\n",
    "\n",
    "    for metodo in pagos:\n",
    "        metodo.pagar()\n"
   ],
   "outputs": [
    {
     "name": "stdout",
     "output_type": "stream",
     "text": [
      "Pago de $150.0 procesado con tarjeta 5678\n",
      "Pago de $200.0 procesado con cuenta PayPal: usuario@ejemplo.com\n",
      "Pago de $300.0 procesado desde cuenta 123456789012\n"
     ]
    }
   ],
   "execution_count": 2
  }
 ],
 "metadata": {
  "kernelspec": {
   "display_name": "Python 3",
   "language": "python",
   "name": "python3"
  },
  "language_info": {
   "codemirror_mode": {
    "name": "ipython",
    "version": 2
   },
   "file_extension": ".py",
   "mimetype": "text/x-python",
   "name": "python",
   "nbconvert_exporter": "python",
   "pygments_lexer": "ipython2",
   "version": "2.7.6"
  }
 },
 "nbformat": 4,
 "nbformat_minor": 5
}
