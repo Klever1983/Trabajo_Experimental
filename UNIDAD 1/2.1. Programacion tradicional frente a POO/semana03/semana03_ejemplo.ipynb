{
 "cells": [
  {
   "cell_type": "code",
   "id": "initial_id",
   "metadata": {
    "collapsed": true,
    "ExecuteTime": {
     "end_time": "2025-06-14T18:21:59.077632Z",
     "start_time": "2025-06-14T18:21:45.836354Z"
    }
   },
   "source": [
    "def promedio(suma, num_dias):\n",
    "    print(\"Promedio de temperatura semanal:\", round(suma / num_dias, 2), \"°C\")\n",
    "\n",
    "dias_semana = [\"Lunes\", \"Martes\", \"Miércoles\", \"Jueves\", \"Viernes\", \"Sábado\", \"Domingo\"]\n",
    "dias_temperatura = []\n",
    "suma = 0\n",
    "\n",
    "for dia in dias_semana:\n",
    "    temp = float(input(f\"Ingrese la temperatura para {dia}: \"))\n",
    "    suma += temp\n",
    "    dias_temperatura.append(temp)\n",
    "\n",
    "promedio(suma, len(dias_semana))"
   ],
   "outputs": [
    {
     "name": "stdout",
     "output_type": "stream",
     "text": [
      "Promedio de temperatura semanal: 4.0 °C\n"
     ]
    }
   ],
   "execution_count": 2
  },
  {
   "metadata": {
    "ExecuteTime": {
     "end_time": "2025-06-14T18:24:19.342072Z",
     "start_time": "2025-06-14T18:24:12.739053Z"
    }
   },
   "cell_type": "code",
   "source": [
    "class DiaClima:\n",
    "    def __init__(self, dia, temperatura):\n",
    "        self.dia = dia\n",
    "        self.temperatura = temperatura\n",
    "\n",
    "    def mostrar(self):\n",
    "        print(self.dia, \" \",  self.temperatura)\n",
    "\n",
    "class SemanaClima:\n",
    "    def __init__(self, dias):\n",
    "        self.dias = dias\n",
    "\n",
    "    def promedio(self):\n",
    "        suma = 0\n",
    "        for dia in self.dias:\n",
    "            suma += dia.temperatura\n",
    "\n",
    "        print(\"promedio\", suma / len(self.dias))\n",
    "\n",
    "dias_semana = [\"Lunes\",\"Martes\",\"Mircoles\",\"Jueves\",\"Viernes\",\"Sabado\",\"Domingo\" ]\n",
    "dias_temeratura = []\n",
    "for dia in dias_semana:\n",
    "    temp = float(input(f\"Ingrese la temperatura para {dia}: \"))\n",
    "    diaClima = DiaClima(dia, temp)\n",
    "    diaClima.mostrar()\n",
    "    dias_temeratura.append(diaClima)\n",
    "\n",
    "semana_semana = SemanaClima(dias_temeratura)\n",
    "semana_semana.promedio()\n",
    "\n",
    "\n",
    "\n",
    "\n",
    "\n",
    "\n"
   ],
   "id": "e96b89a3ede16fc1",
   "outputs": [
    {
     "name": "stdout",
     "output_type": "stream",
     "text": [
      "Lunes   1.0\n",
      "Martes   2.0\n",
      "Mircoles   3.0\n",
      "Jueves   4.0\n",
      "Viernes   5.0\n",
      "Sabado   6.0\n",
      "Domingo   7.0\n",
      "promedio 4.0\n"
     ]
    }
   ],
   "execution_count": 4
  },
  {
   "metadata": {},
   "cell_type": "code",
   "outputs": [],
   "execution_count": null,
   "source": "",
   "id": "9af38e5872497b6c"
  }
 ],
 "metadata": {
  "kernelspec": {
   "display_name": "Python 3",
   "language": "python",
   "name": "python3"
  },
  "language_info": {
   "codemirror_mode": {
    "name": "ipython",
    "version": 2
   },
   "file_extension": ".py",
   "mimetype": "text/x-python",
   "name": "python",
   "nbconvert_exporter": "python",
   "pygments_lexer": "ipython2",
   "version": "2.7.6"
  }
 },
 "nbformat": 4,
 "nbformat_minor": 5
}
